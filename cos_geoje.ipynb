{
 "cells": [
  {
   "cell_type": "code",
   "execution_count": 1,
   "id": "4f1b7018",
   "metadata": {},
   "outputs": [
    {
     "name": "stdout",
     "output_type": "stream",
     "text": [
      "<class 'pandas.core.frame.DataFrame'>\n",
      "RangeIndex: 1099 entries, 0 to 1098\n",
      "Data columns (total 13 columns):\n",
      " #   Column               Non-Null Count  Dtype  \n",
      "---  ------               --------------  -----  \n",
      " 0   keyword              1099 non-null   object \n",
      " 1   address_name         1099 non-null   object \n",
      " 2   category_group_code  1099 non-null   object \n",
      " 3   category_group_name  1099 non-null   object \n",
      " 4   category_name        1099 non-null   object \n",
      " 5   distance             0 non-null      float64\n",
      " 6   id                   1099 non-null   int64  \n",
      " 7   phone                383 non-null    object \n",
      " 8   place_name           1099 non-null   object \n",
      " 9   place_url            1099 non-null   object \n",
      " 10  road_address_name    659 non-null    object \n",
      " 11  x                    1099 non-null   float64\n",
      " 12  y                    1099 non-null   float64\n",
      "dtypes: float64(3), int64(1), object(9)\n",
      "memory usage: 111.7+ KB\n"
     ]
    }
   ],
   "source": [
    "# 1. 데이터 읽기\n",
    "import pandas as pd\n",
    "\n",
    "geoje_poi = pd.read_csv('geoje_poi1.csv', index_col=False)\n",
    "\n",
    "geoje_poi.info()"
   ]
  },
  {
   "cell_type": "code",
   "execution_count": 2,
   "id": "108cf93e",
   "metadata": {},
   "outputs": [
    {
     "data": {
      "text/plain": [
       "['맛집', '여행', '가볼만한 곳', '체험', '감성']"
      ]
     },
     "execution_count": 2,
     "metadata": {},
     "output_type": "execute_result"
    }
   ],
   "source": [
    "keywords = set()\n",
    "for keyword in geoje_poi['keyword'].unique():\n",
    "    for k in keyword.split(','):\n",
    "        keywords.add(k)\n",
    "keywords = list(keywords)\n",
    "\n",
    "keywords"
   ]
  },
  {
   "cell_type": "code",
   "execution_count": 3,
   "id": "50ecd033",
   "metadata": {},
   "outputs": [
    {
     "data": {
      "text/plain": [
       "['관광명소', '카페', '문화시설']"
      ]
     },
     "execution_count": 3,
     "metadata": {},
     "output_type": "execute_result"
    }
   ],
   "source": [
    "groups = []\n",
    "\n",
    "for category in geoje_poi['category_group_name'].unique():\n",
    "    groups.append(category)\n",
    "\n",
    "groups"
   ]
  },
  {
   "cell_type": "code",
   "execution_count": 5,
   "id": "bf6c63fc",
   "metadata": {},
   "outputs": [
    {
     "data": {
      "text/html": [
       "<div>\n",
       "<style scoped>\n",
       "    .dataframe tbody tr th:only-of-type {\n",
       "        vertical-align: middle;\n",
       "    }\n",
       "\n",
       "    .dataframe tbody tr th {\n",
       "        vertical-align: top;\n",
       "    }\n",
       "\n",
       "    .dataframe thead th {\n",
       "        text-align: right;\n",
       "    }\n",
       "</style>\n",
       "<table border=\"1\" class=\"dataframe\">\n",
       "  <thead>\n",
       "    <tr style=\"text-align: right;\">\n",
       "      <th></th>\n",
       "      <th>id</th>\n",
       "      <th>place_name</th>\n",
       "      <th>keyword</th>\n",
       "      <th>category_group_name</th>\n",
       "    </tr>\n",
       "  </thead>\n",
       "  <tbody>\n",
       "    <tr>\n",
       "      <th>0</th>\n",
       "      <td>11026203</td>\n",
       "      <td>구조라해수욕장</td>\n",
       "      <td>여행,가볼만한 곳,여행,가볼만한 곳,여행,가볼만한 곳</td>\n",
       "      <td>관광명소</td>\n",
       "    </tr>\n",
       "  </tbody>\n",
       "</table>\n",
       "</div>"
      ],
      "text/plain": [
       "         id place_name                        keyword category_group_name\n",
       "0  11026203    구조라해수욕장  여행,가볼만한 곳,여행,가볼만한 곳,여행,가볼만한 곳                관광명소"
      ]
     },
     "execution_count": 5,
     "metadata": {},
     "output_type": "execute_result"
    }
   ],
   "source": [
    "geoje_poi[['id', 'place_name', 'keyword', 'category_group_name']].head(1)"
   ]
  },
  {
   "cell_type": "code",
   "execution_count": 6,
   "id": "c8a7abe5",
   "metadata": {},
   "outputs": [
    {
     "data": {
      "application/vnd.jupyter.widget-view+json": {
       "model_id": "e1ed5e51e2bb4ba2b4d91c39e95cbfd8",
       "version_major": 2,
       "version_minor": 0
      },
      "text/plain": [
       "0it [00:00, ?it/s]"
      ]
     },
     "metadata": {},
     "output_type": "display_data"
    }
   ],
   "source": [
    "from tqdm.notebook import tqdm\n",
    "geoje_poi['content'] = ''\n",
    "\n",
    "for idx, row in tqdm(geoje_poi.iterrows()):\n",
    "    content = (row['keyword']+','+row['category_group_name']).replace(' ', '').replace(',', ' ')\n",
    "    geoje_poi.loc[idx, 'content'] = content"
   ]
  },
  {
   "cell_type": "code",
   "execution_count": 7,
   "id": "aa7ffa8c",
   "metadata": {},
   "outputs": [
    {
     "data": {
      "text/html": [
       "<div>\n",
       "<style scoped>\n",
       "    .dataframe tbody tr th:only-of-type {\n",
       "        vertical-align: middle;\n",
       "    }\n",
       "\n",
       "    .dataframe tbody tr th {\n",
       "        vertical-align: top;\n",
       "    }\n",
       "\n",
       "    .dataframe thead th {\n",
       "        text-align: right;\n",
       "    }\n",
       "</style>\n",
       "<table border=\"1\" class=\"dataframe\">\n",
       "  <thead>\n",
       "    <tr style=\"text-align: right;\">\n",
       "      <th></th>\n",
       "      <th>id</th>\n",
       "      <th>place_name</th>\n",
       "      <th>keyword</th>\n",
       "      <th>category_group_name</th>\n",
       "      <th>content</th>\n",
       "    </tr>\n",
       "  </thead>\n",
       "  <tbody>\n",
       "    <tr>\n",
       "      <th>0</th>\n",
       "      <td>11026203</td>\n",
       "      <td>구조라해수욕장</td>\n",
       "      <td>여행,가볼만한 곳,여행,가볼만한 곳,여행,가볼만한 곳</td>\n",
       "      <td>관광명소</td>\n",
       "      <td>여행 가볼만한곳 여행 가볼만한곳 여행 가볼만한곳 관광명소</td>\n",
       "    </tr>\n",
       "    <tr>\n",
       "      <th>1</th>\n",
       "      <td>8021411</td>\n",
       "      <td>외도보타니아</td>\n",
       "      <td>여행,가볼만한 곳</td>\n",
       "      <td>관광명소</td>\n",
       "      <td>여행 가볼만한곳 관광명소</td>\n",
       "    </tr>\n",
       "  </tbody>\n",
       "</table>\n",
       "</div>"
      ],
      "text/plain": [
       "         id place_name                        keyword category_group_name  \\\n",
       "0  11026203    구조라해수욕장  여행,가볼만한 곳,여행,가볼만한 곳,여행,가볼만한 곳                관광명소   \n",
       "1   8021411     외도보타니아                      여행,가볼만한 곳                관광명소   \n",
       "\n",
       "                           content  \n",
       "0  여행 가볼만한곳 여행 가볼만한곳 여행 가볼만한곳 관광명소  \n",
       "1                    여행 가볼만한곳 관광명소  "
      ]
     },
     "execution_count": 7,
     "metadata": {},
     "output_type": "execute_result"
    }
   ],
   "source": [
    "geoje_poi[['id', 'place_name', 'keyword', 'category_group_name', 'content']].head(2)"
   ]
  },
  {
   "cell_type": "code",
   "execution_count": 8,
   "id": "6486363b",
   "metadata": {},
   "outputs": [
    {
     "data": {
      "text/plain": [
       "'여행 가볼만한곳 여행 가볼만한곳 여행 가볼만한곳 관광명소'"
      ]
     },
     "execution_count": 8,
     "metadata": {},
     "output_type": "execute_result"
    }
   ],
   "source": [
    "geoje_poi.loc[0, 'content']"
   ]
  },
  {
   "cell_type": "code",
   "execution_count": 10,
   "id": "c549b18d",
   "metadata": {},
   "outputs": [],
   "source": [
    "geoje_poi.to_csv('geoje_poi_content.csv', index=False)"
   ]
  },
  {
   "cell_type": "code",
   "execution_count": 11,
   "id": "41b2b186",
   "metadata": {},
   "outputs": [
    {
     "data": {
      "text/html": [
       "<div>\n",
       "<style scoped>\n",
       "    .dataframe tbody tr th:only-of-type {\n",
       "        vertical-align: middle;\n",
       "    }\n",
       "\n",
       "    .dataframe tbody tr th {\n",
       "        vertical-align: top;\n",
       "    }\n",
       "\n",
       "    .dataframe thead th {\n",
       "        text-align: right;\n",
       "    }\n",
       "</style>\n",
       "<table border=\"1\" class=\"dataframe\">\n",
       "  <thead>\n",
       "    <tr style=\"text-align: right;\">\n",
       "      <th></th>\n",
       "      <th>keyword</th>\n",
       "      <th>address_name</th>\n",
       "      <th>category_group_code</th>\n",
       "      <th>category_group_name</th>\n",
       "      <th>category_name</th>\n",
       "      <th>distance</th>\n",
       "      <th>id</th>\n",
       "      <th>phone</th>\n",
       "      <th>place_name</th>\n",
       "      <th>place_url</th>\n",
       "      <th>road_address_name</th>\n",
       "      <th>x</th>\n",
       "      <th>y</th>\n",
       "      <th>content</th>\n",
       "    </tr>\n",
       "  </thead>\n",
       "  <tbody>\n",
       "    <tr>\n",
       "      <th>0</th>\n",
       "      <td>여행,가볼만한 곳,여행,가볼만한 곳,여행,가볼만한 곳</td>\n",
       "      <td>경남 거제시 일운면 구조라리 423-1</td>\n",
       "      <td>AT4</td>\n",
       "      <td>관광명소</td>\n",
       "      <td>여행 &gt; 관광,명소 &gt; 해수욕장,해변</td>\n",
       "      <td>NaN</td>\n",
       "      <td>11026203</td>\n",
       "      <td>055-639-3000</td>\n",
       "      <td>구조라해수욕장</td>\n",
       "      <td>http://place.map.kakao.com/11026203</td>\n",
       "      <td>경남 거제시 일운면 거제대로 2056</td>\n",
       "      <td>128.69289</td>\n",
       "      <td>34.806965</td>\n",
       "      <td>여행 가볼만한곳 여행 가볼만한곳 여행 가볼만한곳 관광명소</td>\n",
       "    </tr>\n",
       "  </tbody>\n",
       "</table>\n",
       "</div>"
      ],
      "text/plain": [
       "                         keyword           address_name category_group_code  \\\n",
       "0  여행,가볼만한 곳,여행,가볼만한 곳,여행,가볼만한 곳  경남 거제시 일운면 구조라리 423-1                 AT4   \n",
       "\n",
       "  category_group_name         category_name  distance        id         phone  \\\n",
       "0                관광명소  여행 > 관광,명소 > 해수욕장,해변       NaN  11026203  055-639-3000   \n",
       "\n",
       "  place_name                            place_url     road_address_name  \\\n",
       "0    구조라해수욕장  http://place.map.kakao.com/11026203  경남 거제시 일운면 거제대로 2056   \n",
       "\n",
       "           x          y                          content  \n",
       "0  128.69289  34.806965  여행 가볼만한곳 여행 가볼만한곳 여행 가볼만한곳 관광명소  "
      ]
     },
     "execution_count": 11,
     "metadata": {},
     "output_type": "execute_result"
    }
   ],
   "source": [
    "geoje_poi = pd.read_csv('geoje_poi_content.csv', index_col=False)\n",
    "geoje_poi.head(1)"
   ]
  },
  {
   "cell_type": "code",
   "execution_count": 12,
   "id": "34514ede",
   "metadata": {},
   "outputs": [
    {
     "data": {
      "text/plain": [
       "(1099, 23)"
      ]
     },
     "execution_count": 12,
     "metadata": {},
     "output_type": "execute_result"
    }
   ],
   "source": [
    "from sklearn.feature_extraction.text import CountVectorizer\n",
    "\n",
    "count_vect = CountVectorizer(min_df=0, ngram_range=(1, 2))\n",
    "content_mat = count_vect.fit_transform(geoje_poi['content'])\n",
    "content_mat.shape"
   ]
  },
  {
   "cell_type": "code",
   "execution_count": 13,
   "id": "da4dfb1c",
   "metadata": {},
   "outputs": [
    {
     "data": {
      "text/plain": [
       "['가볼만한곳',\n",
       " '가볼만한곳 관광명소',\n",
       " '가볼만한곳 여행',\n",
       " '감성',\n",
       " '감성 감성',\n",
       " '감성 맛집',\n",
       " '감성 카페',\n",
       " '관광명소',\n",
       " '맛집',\n",
       " '맛집 감성',\n",
       " '맛집 맛집',\n",
       " '맛집 체험',\n",
       " '맛집 카페',\n",
       " '문화시설',\n",
       " '여행',\n",
       " '여행 가볼만한곳',\n",
       " '여행 체험',\n",
       " '체험',\n",
       " '체험 가볼만한곳',\n",
       " '체험 맛집',\n",
       " '체험 문화시설',\n",
       " '체험 카페',\n",
       " '카페']"
      ]
     },
     "execution_count": 13,
     "metadata": {},
     "output_type": "execute_result"
    }
   ],
   "source": [
    "count_vect.get_feature_names()"
   ]
  },
  {
   "cell_type": "code",
   "execution_count": 14,
   "id": "ddd9647b",
   "metadata": {},
   "outputs": [
    {
     "name": "stdout",
     "output_type": "stream",
     "text": [
      "(1099, 1099)\n",
      "[[1.         0.85634884 0.98882646 ... 0.         0.         0.        ]\n",
      " [0.85634884 1.         0.92376043 ... 0.         0.         0.        ]]\n"
     ]
    }
   ],
   "source": [
    "from sklearn.metrics.pairwise import cosine_similarity\n",
    "\n",
    "content_sim = cosine_similarity(content_mat, content_mat)\n",
    "print(content_sim.shape)\n",
    "print(content_sim[:2])"
   ]
  },
  {
   "cell_type": "code",
   "execution_count": 15,
   "id": "75732bbf",
   "metadata": {},
   "outputs": [],
   "source": [
    "ex_poi = geoje_poi.copy(deep = True)\n",
    "ex_poi['nl_cosine'] = content_sim[0]"
   ]
  },
  {
   "cell_type": "code",
   "execution_count": 16,
   "id": "1f6597d9",
   "metadata": {},
   "outputs": [
    {
     "data": {
      "text/html": [
       "<div>\n",
       "<style scoped>\n",
       "    .dataframe tbody tr th:only-of-type {\n",
       "        vertical-align: middle;\n",
       "    }\n",
       "\n",
       "    .dataframe tbody tr th {\n",
       "        vertical-align: top;\n",
       "    }\n",
       "\n",
       "    .dataframe thead th {\n",
       "        text-align: right;\n",
       "    }\n",
       "</style>\n",
       "<table border=\"1\" class=\"dataframe\">\n",
       "  <thead>\n",
       "    <tr style=\"text-align: right;\">\n",
       "      <th></th>\n",
       "      <th>id</th>\n",
       "      <th>place_name</th>\n",
       "      <th>nl_cosine</th>\n",
       "    </tr>\n",
       "  </thead>\n",
       "  <tbody>\n",
       "    <tr>\n",
       "      <th>0</th>\n",
       "      <td>11026203</td>\n",
       "      <td>구조라해수욕장</td>\n",
       "      <td>1.000000</td>\n",
       "    </tr>\n",
       "    <tr>\n",
       "      <th>1</th>\n",
       "      <td>8021411</td>\n",
       "      <td>외도보타니아</td>\n",
       "      <td>0.856349</td>\n",
       "    </tr>\n",
       "    <tr>\n",
       "      <th>2</th>\n",
       "      <td>7862496</td>\n",
       "      <td>망치몽돌해수욕장</td>\n",
       "      <td>0.988826</td>\n",
       "    </tr>\n",
       "    <tr>\n",
       "      <th>3</th>\n",
       "      <td>11297994</td>\n",
       "      <td>와현모래숲해수욕장</td>\n",
       "      <td>1.000000</td>\n",
       "    </tr>\n",
       "    <tr>\n",
       "      <th>4</th>\n",
       "      <td>8559153</td>\n",
       "      <td>지심도</td>\n",
       "      <td>1.000000</td>\n",
       "    </tr>\n",
       "  </tbody>\n",
       "</table>\n",
       "</div>"
      ],
      "text/plain": [
       "         id place_name  nl_cosine\n",
       "0  11026203    구조라해수욕장   1.000000\n",
       "1   8021411     외도보타니아   0.856349\n",
       "2   7862496   망치몽돌해수욕장   0.988826\n",
       "3  11297994  와현모래숲해수욕장   1.000000\n",
       "4   8559153        지심도   1.000000"
      ]
     },
     "execution_count": 16,
     "metadata": {},
     "output_type": "execute_result"
    }
   ],
   "source": [
    "ex_poi[['id', 'place_name', 'nl_cosine']].head(5)"
   ]
  },
  {
   "cell_type": "code",
   "execution_count": 17,
   "id": "8cc07520",
   "metadata": {},
   "outputs": [],
   "source": [
    "import numpy as np\n",
    "\n",
    "np.save('nl_content_sim.npy', content_sim)"
   ]
  },
  {
   "cell_type": "code",
   "execution_count": 18,
   "id": "a7786abf",
   "metadata": {},
   "outputs": [
    {
     "data": {
      "text/plain": [
       "array([1.        , 0.85634884, 0.98882646, 1.        , 1.        ])"
      ]
     },
     "execution_count": 18,
     "metadata": {},
     "output_type": "execute_result"
    }
   ],
   "source": [
    "import numpy as np\n",
    "\n",
    "np_file = np.load(file='nl_content_sim.npy')\n",
    "np_file[0][:5]"
   ]
  }
 ],
 "metadata": {
  "kernelspec": {
   "display_name": "Python 3",
   "language": "python",
   "name": "python3"
  },
  "language_info": {
   "codemirror_mode": {
    "name": "ipython",
    "version": 3
   },
   "file_extension": ".py",
   "mimetype": "text/x-python",
   "name": "python",
   "nbconvert_exporter": "python",
   "pygments_lexer": "ipython3",
   "version": "3.7.6"
  }
 },
 "nbformat": 4,
 "nbformat_minor": 5
}
