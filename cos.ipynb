{
 "cells": [
  {
   "cell_type": "code",
   "execution_count": 1,
   "id": "4f1b7018",
   "metadata": {},
   "outputs": [
    {
     "name": "stdout",
     "output_type": "stream",
     "text": [
      "<class 'pandas.core.frame.DataFrame'>\n",
      "RangeIndex: 1623 entries, 0 to 1622\n",
      "Data columns (total 13 columns):\n",
      " #   Column               Non-Null Count  Dtype  \n",
      "---  ------               --------------  -----  \n",
      " 0   keyword              1623 non-null   object \n",
      " 1   address_name         1623 non-null   object \n",
      " 2   category_group_code  1623 non-null   object \n",
      " 3   category_group_name  1623 non-null   object \n",
      " 4   category_name        1623 non-null   object \n",
      " 5   distance             0 non-null      float64\n",
      " 6   id                   1623 non-null   int64  \n",
      " 7   phone                553 non-null    object \n",
      " 8   place_name           1623 non-null   object \n",
      " 9   place_url            1623 non-null   object \n",
      " 10  road_address_name    932 non-null    object \n",
      " 11  x                    1623 non-null   float64\n",
      " 12  y                    1623 non-null   float64\n",
      "dtypes: float64(3), int64(1), object(9)\n",
      "memory usage: 165.0+ KB\n"
     ]
    }
   ],
   "source": [
    "# 1. 데이터 읽기\n",
    "import pandas as pd\n",
    "\n",
    "gyeongju_poi = pd.read_csv('gyeongju_poi2.csv', index_col=False)\n",
    "\n",
    "gyeongju_poi.info()"
   ]
  },
  {
   "cell_type": "code",
   "execution_count": 2,
   "id": "108cf93e",
   "metadata": {},
   "outputs": [
    {
     "data": {
      "text/plain": [
       "['체험', '가볼만한 곳', '감성', '여행', '맛집']"
      ]
     },
     "execution_count": 2,
     "metadata": {},
     "output_type": "execute_result"
    }
   ],
   "source": [
    "keywords = set()\n",
    "for keyword in gyeongju_poi['keyword'].unique():\n",
    "    for k in keyword.split(','):\n",
    "        keywords.add(k)\n",
    "keywords = list(keywords)\n",
    "\n",
    "keywords"
   ]
  },
  {
   "cell_type": "code",
   "execution_count": 3,
   "id": "50ecd033",
   "metadata": {},
   "outputs": [
    {
     "data": {
      "text/plain": [
       "['문화시설', '관광명소', '카페']"
      ]
     },
     "execution_count": 3,
     "metadata": {},
     "output_type": "execute_result"
    }
   ],
   "source": [
    "groups = []\n",
    "\n",
    "for category in gyeongju_poi['category_group_name'].unique():\n",
    "    groups.append(category)\n",
    "\n",
    "groups"
   ]
  },
  {
   "cell_type": "code",
   "execution_count": 4,
   "id": "bf6c63fc",
   "metadata": {},
   "outputs": [
    {
     "data": {
      "text/html": [
       "<div>\n",
       "<style scoped>\n",
       "    .dataframe tbody tr th:only-of-type {\n",
       "        vertical-align: middle;\n",
       "    }\n",
       "\n",
       "    .dataframe tbody tr th {\n",
       "        vertical-align: top;\n",
       "    }\n",
       "\n",
       "    .dataframe thead th {\n",
       "        text-align: right;\n",
       "    }\n",
       "</style>\n",
       "<table border=\"1\" class=\"dataframe\">\n",
       "  <thead>\n",
       "    <tr style=\"text-align: right;\">\n",
       "      <th></th>\n",
       "      <th>id</th>\n",
       "      <th>place_name</th>\n",
       "      <th>keyword</th>\n",
       "      <th>category_group_name</th>\n",
       "    </tr>\n",
       "  </thead>\n",
       "  <tbody>\n",
       "    <tr>\n",
       "      <th>0</th>\n",
       "      <td>1394788185</td>\n",
       "      <td>송대말등대 빛체험전시관</td>\n",
       "      <td>체험</td>\n",
       "      <td>문화시설</td>\n",
       "    </tr>\n",
       "  </tbody>\n",
       "</table>\n",
       "</div>"
      ],
      "text/plain": [
       "           id    place_name keyword category_group_name\n",
       "0  1394788185  송대말등대 빛체험전시관      체험                문화시설"
      ]
     },
     "execution_count": 4,
     "metadata": {},
     "output_type": "execute_result"
    }
   ],
   "source": [
    "gyeongju_poi[['id', 'place_name', 'keyword', 'category_group_name']].head(1)"
   ]
  },
  {
   "cell_type": "code",
   "execution_count": 5,
   "id": "c8a7abe5",
   "metadata": {},
   "outputs": [
    {
     "data": {
      "application/vnd.jupyter.widget-view+json": {
       "model_id": "f90dfc4a69fc430aa3567b1605ab5435",
       "version_major": 2,
       "version_minor": 0
      },
      "text/plain": [
       "0it [00:00, ?it/s]"
      ]
     },
     "metadata": {},
     "output_type": "display_data"
    }
   ],
   "source": [
    "from tqdm.notebook import tqdm\n",
    "gyeongju_poi['content'] = ''\n",
    "\n",
    "for idx, row in tqdm(gyeongju_poi.iterrows()):\n",
    "    content = (row['keyword']+','+row['category_group_name']).replace(' ', '').replace(',', ' ')\n",
    "    gyeongju_poi.loc[idx, 'content'] = content"
   ]
  },
  {
   "cell_type": "code",
   "execution_count": 6,
   "id": "aa7ffa8c",
   "metadata": {},
   "outputs": [
    {
     "data": {
      "text/html": [
       "<div>\n",
       "<style scoped>\n",
       "    .dataframe tbody tr th:only-of-type {\n",
       "        vertical-align: middle;\n",
       "    }\n",
       "\n",
       "    .dataframe tbody tr th {\n",
       "        vertical-align: top;\n",
       "    }\n",
       "\n",
       "    .dataframe thead th {\n",
       "        text-align: right;\n",
       "    }\n",
       "</style>\n",
       "<table border=\"1\" class=\"dataframe\">\n",
       "  <thead>\n",
       "    <tr style=\"text-align: right;\">\n",
       "      <th></th>\n",
       "      <th>id</th>\n",
       "      <th>place_name</th>\n",
       "      <th>keyword</th>\n",
       "      <th>category_group_name</th>\n",
       "      <th>content</th>\n",
       "    </tr>\n",
       "  </thead>\n",
       "  <tbody>\n",
       "    <tr>\n",
       "      <th>0</th>\n",
       "      <td>1394788185</td>\n",
       "      <td>송대말등대 빛체험전시관</td>\n",
       "      <td>체험</td>\n",
       "      <td>문화시설</td>\n",
       "      <td>체험 문화시설</td>\n",
       "    </tr>\n",
       "    <tr>\n",
       "      <th>1</th>\n",
       "      <td>11256465</td>\n",
       "      <td>오류고아라해변</td>\n",
       "      <td>여행,가볼만한 곳</td>\n",
       "      <td>관광명소</td>\n",
       "      <td>여행 가볼만한곳 관광명소</td>\n",
       "    </tr>\n",
       "  </tbody>\n",
       "</table>\n",
       "</div>"
      ],
      "text/plain": [
       "           id    place_name    keyword category_group_name        content\n",
       "0  1394788185  송대말등대 빛체험전시관         체험                문화시설        체험 문화시설\n",
       "1    11256465       오류고아라해변  여행,가볼만한 곳                관광명소  여행 가볼만한곳 관광명소"
      ]
     },
     "execution_count": 6,
     "metadata": {},
     "output_type": "execute_result"
    }
   ],
   "source": [
    "gyeongju_poi[['id', 'place_name', 'keyword', 'category_group_name', 'content']].head(2)"
   ]
  },
  {
   "cell_type": "code",
   "execution_count": 7,
   "id": "6486363b",
   "metadata": {},
   "outputs": [
    {
     "data": {
      "text/plain": [
       "'체험 문화시설'"
      ]
     },
     "execution_count": 7,
     "metadata": {},
     "output_type": "execute_result"
    }
   ],
   "source": [
    "gyeongju_poi.loc[0, 'content']"
   ]
  },
  {
   "cell_type": "code",
   "execution_count": 8,
   "id": "c549b18d",
   "metadata": {},
   "outputs": [],
   "source": [
    "gyeongju_poi.to_csv('gyeongju_poi_content.csv', index=False)"
   ]
  },
  {
   "cell_type": "code",
   "execution_count": 9,
   "id": "41b2b186",
   "metadata": {},
   "outputs": [
    {
     "data": {
      "text/html": [
       "<div>\n",
       "<style scoped>\n",
       "    .dataframe tbody tr th:only-of-type {\n",
       "        vertical-align: middle;\n",
       "    }\n",
       "\n",
       "    .dataframe tbody tr th {\n",
       "        vertical-align: top;\n",
       "    }\n",
       "\n",
       "    .dataframe thead th {\n",
       "        text-align: right;\n",
       "    }\n",
       "</style>\n",
       "<table border=\"1\" class=\"dataframe\">\n",
       "  <thead>\n",
       "    <tr style=\"text-align: right;\">\n",
       "      <th></th>\n",
       "      <th>keyword</th>\n",
       "      <th>address_name</th>\n",
       "      <th>category_group_code</th>\n",
       "      <th>category_group_name</th>\n",
       "      <th>category_name</th>\n",
       "      <th>distance</th>\n",
       "      <th>id</th>\n",
       "      <th>phone</th>\n",
       "      <th>place_name</th>\n",
       "      <th>place_url</th>\n",
       "      <th>road_address_name</th>\n",
       "      <th>x</th>\n",
       "      <th>y</th>\n",
       "      <th>content</th>\n",
       "    </tr>\n",
       "  </thead>\n",
       "  <tbody>\n",
       "    <tr>\n",
       "      <th>0</th>\n",
       "      <td>체험</td>\n",
       "      <td>경북 경주시 감포읍 오류리 583-3</td>\n",
       "      <td>CT1</td>\n",
       "      <td>문화시설</td>\n",
       "      <td>문화,예술 &gt; 문화시설 &gt; 전시관</td>\n",
       "      <td>NaN</td>\n",
       "      <td>1394788185</td>\n",
       "      <td>NaN</td>\n",
       "      <td>송대말등대 빛체험전시관</td>\n",
       "      <td>http://place.map.kakao.com/1394788185</td>\n",
       "      <td>경북 경주시 감포읍 감포로 226-19</td>\n",
       "      <td>129.511359</td>\n",
       "      <td>35.807336</td>\n",
       "      <td>체험 문화시설</td>\n",
       "    </tr>\n",
       "  </tbody>\n",
       "</table>\n",
       "</div>"
      ],
      "text/plain": [
       "  keyword          address_name category_group_code category_group_name  \\\n",
       "0      체험  경북 경주시 감포읍 오류리 583-3                 CT1                문화시설   \n",
       "\n",
       "        category_name  distance          id phone    place_name  \\\n",
       "0  문화,예술 > 문화시설 > 전시관       NaN  1394788185   NaN  송대말등대 빛체험전시관   \n",
       "\n",
       "                               place_url      road_address_name           x  \\\n",
       "0  http://place.map.kakao.com/1394788185  경북 경주시 감포읍 감포로 226-19  129.511359   \n",
       "\n",
       "           y  content  \n",
       "0  35.807336  체험 문화시설  "
      ]
     },
     "execution_count": 9,
     "metadata": {},
     "output_type": "execute_result"
    }
   ],
   "source": [
    "gyeongju_poi = pd.read_csv('gyeongju_poi_content.csv', index_col=False)\n",
    "\n",
    "gyeongju_poi.head(1)"
   ]
  },
  {
   "cell_type": "code",
   "execution_count": 10,
   "id": "34514ede",
   "metadata": {},
   "outputs": [
    {
     "data": {
      "text/plain": [
       "(1623, 22)"
      ]
     },
     "execution_count": 10,
     "metadata": {},
     "output_type": "execute_result"
    }
   ],
   "source": [
    "from sklearn.feature_extraction.text import CountVectorizer\n",
    "\n",
    "count_vect = CountVectorizer(min_df=0, ngram_range=(1, 2))\n",
    "content_mat = count_vect.fit_transform(gyeongju_poi['content'])\n",
    "content_mat.shape"
   ]
  },
  {
   "cell_type": "code",
   "execution_count": 12,
   "id": "da4dfb1c",
   "metadata": {},
   "outputs": [
    {
     "data": {
      "text/plain": [
       "['가볼만한곳',\n",
       " '가볼만한곳 관광명소',\n",
       " '가볼만한곳 여행',\n",
       " '감성',\n",
       " '감성 감성',\n",
       " '감성 맛집',\n",
       " '감성 카페',\n",
       " '관광명소',\n",
       " '맛집',\n",
       " '맛집 감성',\n",
       " '맛집 맛집',\n",
       " '맛집 여행',\n",
       " '맛집 카페',\n",
       " '문화시설',\n",
       " '여행',\n",
       " '여행 가볼만한곳',\n",
       " '여행 맛집',\n",
       " '여행 여행',\n",
       " '여행 카페',\n",
       " '체험',\n",
       " '체험 문화시설',\n",
       " '카페']"
      ]
     },
     "execution_count": 12,
     "metadata": {},
     "output_type": "execute_result"
    }
   ],
   "source": [
    "count_vect.get_feature_names()"
   ]
  },
  {
   "cell_type": "code",
   "execution_count": 13,
   "id": "ddd9647b",
   "metadata": {},
   "outputs": [
    {
     "name": "stdout",
     "output_type": "stream",
     "text": [
      "(1623, 1623)\n",
      "[[1. 0. 0. ... 0. 0. 0.]\n",
      " [0. 1. 1. ... 0. 0. 0.]]\n"
     ]
    }
   ],
   "source": [
    "from sklearn.metrics.pairwise import cosine_similarity\n",
    "\n",
    "content_sim = cosine_similarity(content_mat, content_mat)\n",
    "print(content_sim.shape)\n",
    "print(content_sim[:2])"
   ]
  },
  {
   "cell_type": "code",
   "execution_count": 14,
   "id": "75732bbf",
   "metadata": {},
   "outputs": [],
   "source": [
    "ex_poi = gyeongju_poi.copy(deep = True)\n",
    "ex_poi['nl_cosine'] = content_sim[0]"
   ]
  },
  {
   "cell_type": "code",
   "execution_count": 15,
   "id": "1f6597d9",
   "metadata": {},
   "outputs": [
    {
     "data": {
      "text/html": [
       "<div>\n",
       "<style scoped>\n",
       "    .dataframe tbody tr th:only-of-type {\n",
       "        vertical-align: middle;\n",
       "    }\n",
       "\n",
       "    .dataframe tbody tr th {\n",
       "        vertical-align: top;\n",
       "    }\n",
       "\n",
       "    .dataframe thead th {\n",
       "        text-align: right;\n",
       "    }\n",
       "</style>\n",
       "<table border=\"1\" class=\"dataframe\">\n",
       "  <thead>\n",
       "    <tr style=\"text-align: right;\">\n",
       "      <th></th>\n",
       "      <th>id</th>\n",
       "      <th>place_name</th>\n",
       "      <th>nl_cosine</th>\n",
       "    </tr>\n",
       "  </thead>\n",
       "  <tbody>\n",
       "    <tr>\n",
       "      <th>0</th>\n",
       "      <td>1394788185</td>\n",
       "      <td>송대말등대 빛체험전시관</td>\n",
       "      <td>1.0</td>\n",
       "    </tr>\n",
       "    <tr>\n",
       "      <th>1</th>\n",
       "      <td>11256465</td>\n",
       "      <td>오류고아라해변</td>\n",
       "      <td>0.0</td>\n",
       "    </tr>\n",
       "    <tr>\n",
       "      <th>2</th>\n",
       "      <td>8223627</td>\n",
       "      <td>나정고운모래해변</td>\n",
       "      <td>0.0</td>\n",
       "    </tr>\n",
       "    <tr>\n",
       "      <th>3</th>\n",
       "      <td>10714629</td>\n",
       "      <td>전촌솔밭해변</td>\n",
       "      <td>0.0</td>\n",
       "    </tr>\n",
       "    <tr>\n",
       "      <th>4</th>\n",
       "      <td>2087577487</td>\n",
       "      <td>감포해국길</td>\n",
       "      <td>0.0</td>\n",
       "    </tr>\n",
       "  </tbody>\n",
       "</table>\n",
       "</div>"
      ],
      "text/plain": [
       "           id    place_name  nl_cosine\n",
       "0  1394788185  송대말등대 빛체험전시관        1.0\n",
       "1    11256465       오류고아라해변        0.0\n",
       "2     8223627      나정고운모래해변        0.0\n",
       "3    10714629        전촌솔밭해변        0.0\n",
       "4  2087577487         감포해국길        0.0"
      ]
     },
     "execution_count": 15,
     "metadata": {},
     "output_type": "execute_result"
    }
   ],
   "source": [
    "ex_poi[['id', 'place_name', 'nl_cosine']].head(5)"
   ]
  },
  {
   "cell_type": "code",
   "execution_count": 17,
   "id": "8cc07520",
   "metadata": {},
   "outputs": [],
   "source": [
    "import numpy as np\n",
    "\n",
    "np.save('nl_content_sim.npy', content_sim)"
   ]
  },
  {
   "cell_type": "code",
   "execution_count": 18,
   "id": "a7786abf",
   "metadata": {},
   "outputs": [
    {
     "data": {
      "text/plain": [
       "array([1., 0., 0., 0., 0.])"
      ]
     },
     "execution_count": 18,
     "metadata": {},
     "output_type": "execute_result"
    }
   ],
   "source": [
    "import numpy as np\n",
    "\n",
    "np_file = np.load(file='nl_content_sim.npy')\n",
    "np_file[0][:5]"
   ]
  }
 ],
 "metadata": {
  "kernelspec": {
   "display_name": "Python 3",
   "language": "python",
   "name": "python3"
  },
  "language_info": {
   "codemirror_mode": {
    "name": "ipython",
    "version": 3
   },
   "file_extension": ".py",
   "mimetype": "text/x-python",
   "name": "python",
   "nbconvert_exporter": "python",
   "pygments_lexer": "ipython3",
   "version": "3.7.6"
  }
 },
 "nbformat": 4,
 "nbformat_minor": 5
}
